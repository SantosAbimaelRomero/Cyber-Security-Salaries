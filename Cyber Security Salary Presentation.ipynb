{
 "cells": [
  {
   "cell_type": "markdown",
   "id": "e63d1867",
   "metadata": {},
   "source": [
    "# Preparation"
   ]
  },
  {
   "cell_type": "code",
   "execution_count": 65,
   "id": "06d37de7",
   "metadata": {},
   "outputs": [],
   "source": [
    "import pandas as pd\n",
    "import matplotlib.pyplot as plt\n",
    "import matplotlib as mpl\n",
    "import seaborn as sns"
   ]
  },
  {
   "cell_type": "code",
   "execution_count": 2,
   "id": "445fbb13",
   "metadata": {},
   "outputs": [],
   "source": [
    "original = pd.read_csv('salaries_cyber.csv')"
   ]
  },
  {
   "cell_type": "code",
   "execution_count": 3,
   "id": "b453e85f",
   "metadata": {},
   "outputs": [
    {
     "data": {
      "text/html": [
       "<div>\n",
       "<style scoped>\n",
       "    .dataframe tbody tr th:only-of-type {\n",
       "        vertical-align: middle;\n",
       "    }\n",
       "\n",
       "    .dataframe tbody tr th {\n",
       "        vertical-align: top;\n",
       "    }\n",
       "\n",
       "    .dataframe thead th {\n",
       "        text-align: right;\n",
       "    }\n",
       "</style>\n",
       "<table border=\"1\" class=\"dataframe\">\n",
       "  <thead>\n",
       "    <tr style=\"text-align: right;\">\n",
       "      <th></th>\n",
       "      <th>work_year</th>\n",
       "      <th>experience_level</th>\n",
       "      <th>employment_type</th>\n",
       "      <th>job_title</th>\n",
       "      <th>salary</th>\n",
       "      <th>salary_currency</th>\n",
       "      <th>salary_in_usd</th>\n",
       "      <th>employee_residence</th>\n",
       "      <th>remote_ratio</th>\n",
       "      <th>company_location</th>\n",
       "      <th>company_size</th>\n",
       "    </tr>\n",
       "  </thead>\n",
       "  <tbody>\n",
       "    <tr>\n",
       "      <th>0</th>\n",
       "      <td>2022</td>\n",
       "      <td>EN</td>\n",
       "      <td>FT</td>\n",
       "      <td>Cyber Program Manager</td>\n",
       "      <td>63000</td>\n",
       "      <td>USD</td>\n",
       "      <td>63000</td>\n",
       "      <td>US</td>\n",
       "      <td>50</td>\n",
       "      <td>US</td>\n",
       "      <td>S</td>\n",
       "    </tr>\n",
       "    <tr>\n",
       "      <th>1</th>\n",
       "      <td>2022</td>\n",
       "      <td>MI</td>\n",
       "      <td>FT</td>\n",
       "      <td>Security Analyst</td>\n",
       "      <td>95000</td>\n",
       "      <td>USD</td>\n",
       "      <td>95000</td>\n",
       "      <td>US</td>\n",
       "      <td>0</td>\n",
       "      <td>US</td>\n",
       "      <td>M</td>\n",
       "    </tr>\n",
       "    <tr>\n",
       "      <th>2</th>\n",
       "      <td>2022</td>\n",
       "      <td>MI</td>\n",
       "      <td>FT</td>\n",
       "      <td>Security Analyst</td>\n",
       "      <td>70000</td>\n",
       "      <td>USD</td>\n",
       "      <td>70000</td>\n",
       "      <td>US</td>\n",
       "      <td>0</td>\n",
       "      <td>US</td>\n",
       "      <td>M</td>\n",
       "    </tr>\n",
       "    <tr>\n",
       "      <th>3</th>\n",
       "      <td>2022</td>\n",
       "      <td>MI</td>\n",
       "      <td>FT</td>\n",
       "      <td>IT Security Analyst</td>\n",
       "      <td>250000</td>\n",
       "      <td>BRL</td>\n",
       "      <td>48853</td>\n",
       "      <td>BR</td>\n",
       "      <td>50</td>\n",
       "      <td>BR</td>\n",
       "      <td>L</td>\n",
       "    </tr>\n",
       "    <tr>\n",
       "      <th>4</th>\n",
       "      <td>2022</td>\n",
       "      <td>EN</td>\n",
       "      <td>CT</td>\n",
       "      <td>Cyber Security Analyst</td>\n",
       "      <td>120000</td>\n",
       "      <td>USD</td>\n",
       "      <td>120000</td>\n",
       "      <td>BW</td>\n",
       "      <td>100</td>\n",
       "      <td>BW</td>\n",
       "      <td>S</td>\n",
       "    </tr>\n",
       "  </tbody>\n",
       "</table>\n",
       "</div>"
      ],
      "text/plain": [
       "   work_year experience_level employment_type               job_title  salary  \\\n",
       "0       2022               EN              FT   Cyber Program Manager   63000   \n",
       "1       2022               MI              FT        Security Analyst   95000   \n",
       "2       2022               MI              FT        Security Analyst   70000   \n",
       "3       2022               MI              FT     IT Security Analyst  250000   \n",
       "4       2022               EN              CT  Cyber Security Analyst  120000   \n",
       "\n",
       "  salary_currency  salary_in_usd employee_residence  remote_ratio  \\\n",
       "0             USD          63000                 US            50   \n",
       "1             USD          95000                 US             0   \n",
       "2             USD          70000                 US             0   \n",
       "3             BRL          48853                 BR            50   \n",
       "4             USD         120000                 BW           100   \n",
       "\n",
       "  company_location company_size  \n",
       "0               US            S  \n",
       "1               US            M  \n",
       "2               US            M  \n",
       "3               BR            L  \n",
       "4               BW            S  "
      ]
     },
     "execution_count": 3,
     "metadata": {},
     "output_type": "execute_result"
    }
   ],
   "source": [
    "original.head()"
   ]
  },
  {
   "cell_type": "code",
   "execution_count": 4,
   "id": "cd554c7b",
   "metadata": {},
   "outputs": [
    {
     "name": "stdout",
     "output_type": "stream",
     "text": [
      "<class 'pandas.core.frame.DataFrame'>\n",
      "RangeIndex: 1247 entries, 0 to 1246\n",
      "Data columns (total 11 columns):\n",
      " #   Column              Non-Null Count  Dtype \n",
      "---  ------              --------------  ----- \n",
      " 0   work_year           1247 non-null   int64 \n",
      " 1   experience_level    1247 non-null   object\n",
      " 2   employment_type     1247 non-null   object\n",
      " 3   job_title           1247 non-null   object\n",
      " 4   salary              1247 non-null   int64 \n",
      " 5   salary_currency     1247 non-null   object\n",
      " 6   salary_in_usd       1247 non-null   int64 \n",
      " 7   employee_residence  1247 non-null   object\n",
      " 8   remote_ratio        1247 non-null   int64 \n",
      " 9   company_location    1247 non-null   object\n",
      " 10  company_size        1247 non-null   object\n",
      "dtypes: int64(4), object(7)\n",
      "memory usage: 107.3+ KB\n"
     ]
    }
   ],
   "source": [
    "original.info()"
   ]
  },
  {
   "cell_type": "markdown",
   "id": "330c3461",
   "metadata": {},
   "source": [
    "Business Problem:\n",
    "- Trying to see differences in salaries within Cyber Security field.\n",
    "\n",
    "Feature Dictionary:\n",
    "\n",
    "- work_year : Year the data was recorded\n",
    "- experience_level : Job experience level (Entry-EN, Mid-MI, Senior-SE, Executive-EX)\n",
    "- employment_type : Type of employment (Part-time-PT, full-time-FT, contract-CT, freelance-FL)\n",
    "- job_title : Specific role\n",
    "- salary : gross amount payed\n",
    "- salary_currency : currency of salary (ISO 4217 currency code)\n",
    "- salary_in_usd : salary in dollars\n",
    "- employee_residence : Country of employee residence\n",
    "- remote_ratio : Amount of remote work in a percentage (0% means no remote work, 50% means some remote work, 100% means job was fully remote)\n",
    "- company_location : Country of company.\n",
    "- company_size : Size of company (small, medium, or large)"
   ]
  },
  {
   "cell_type": "markdown",
   "id": "4b5298a1",
   "metadata": {},
   "source": [
    "# Data Prep"
   ]
  },
  {
   "cell_type": "code",
   "execution_count": 5,
   "id": "441716ef",
   "metadata": {},
   "outputs": [],
   "source": [
    "df = original.copy()"
   ]
  },
  {
   "cell_type": "markdown",
   "id": "75f29210",
   "metadata": {},
   "source": [
    "## Missing Values"
   ]
  },
  {
   "cell_type": "code",
   "execution_count": 6,
   "id": "98bd2f13",
   "metadata": {},
   "outputs": [
    {
     "data": {
      "text/plain": [
       "work_year             0\n",
       "experience_level      0\n",
       "employment_type       0\n",
       "job_title             0\n",
       "salary                0\n",
       "salary_currency       0\n",
       "salary_in_usd         0\n",
       "employee_residence    0\n",
       "remote_ratio          0\n",
       "company_location      0\n",
       "company_size          0\n",
       "dtype: int64"
      ]
     },
     "execution_count": 6,
     "metadata": {},
     "output_type": "execute_result"
    }
   ],
   "source": [
    "df.isna().sum()"
   ]
  },
  {
   "cell_type": "markdown",
   "id": "4a697a08",
   "metadata": {},
   "source": [
    "No missing values"
   ]
  },
  {
   "cell_type": "markdown",
   "id": "77b720dc",
   "metadata": {},
   "source": [
    "## Duplicates"
   ]
  },
  {
   "cell_type": "code",
   "execution_count": 7,
   "id": "fadc63f1",
   "metadata": {},
   "outputs": [
    {
     "data": {
      "text/plain": [
       "85"
      ]
     },
     "execution_count": 7,
     "metadata": {},
     "output_type": "execute_result"
    }
   ],
   "source": [
    "df.duplicated().sum()"
   ]
  },
  {
   "cell_type": "code",
   "execution_count": 8,
   "id": "fb425418",
   "metadata": {},
   "outputs": [],
   "source": [
    "df = df.drop_duplicates()"
   ]
  },
  {
   "cell_type": "code",
   "execution_count": 9,
   "id": "89408966",
   "metadata": {},
   "outputs": [
    {
     "data": {
      "text/plain": [
       "0"
      ]
     },
     "execution_count": 9,
     "metadata": {},
     "output_type": "execute_result"
    }
   ],
   "source": [
    "df.duplicated().sum()"
   ]
  },
  {
   "cell_type": "markdown",
   "id": "c2101a76",
   "metadata": {},
   "source": [
    "85 duplicate rows were removed"
   ]
  },
  {
   "cell_type": "markdown",
   "id": "971d37a7",
   "metadata": {},
   "source": [
    "## Consistent/Correct Values\n",
    "Only salary columns were changed"
   ]
  },
  {
   "cell_type": "code",
   "execution_count": 10,
   "id": "1cab2744",
   "metadata": {},
   "outputs": [
    {
     "name": "stdout",
     "output_type": "stream",
     "text": [
      "<class 'pandas.core.frame.DataFrame'>\n",
      "Int64Index: 1162 entries, 0 to 1246\n",
      "Data columns (total 11 columns):\n",
      " #   Column              Non-Null Count  Dtype \n",
      "---  ------              --------------  ----- \n",
      " 0   work_year           1162 non-null   int64 \n",
      " 1   experience_level    1162 non-null   object\n",
      " 2   employment_type     1162 non-null   object\n",
      " 3   job_title           1162 non-null   object\n",
      " 4   salary              1162 non-null   int64 \n",
      " 5   salary_currency     1162 non-null   object\n",
      " 6   salary_in_usd       1162 non-null   int64 \n",
      " 7   employee_residence  1162 non-null   object\n",
      " 8   remote_ratio        1162 non-null   int64 \n",
      " 9   company_location    1162 non-null   object\n",
      " 10  company_size        1162 non-null   object\n",
      "dtypes: int64(4), object(7)\n",
      "memory usage: 108.9+ KB\n"
     ]
    }
   ],
   "source": [
    "df.info()"
   ]
  },
  {
   "cell_type": "code",
   "execution_count": 11,
   "id": "9067f256",
   "metadata": {},
   "outputs": [
    {
     "data": {
      "text/plain": [
       "2022    504\n",
       "2021    475\n",
       "2020    183\n",
       "Name: work_year, dtype: int64"
      ]
     },
     "execution_count": 11,
     "metadata": {},
     "output_type": "execute_result"
    }
   ],
   "source": [
    "df['work_year'].value_counts()"
   ]
  },
  {
   "cell_type": "markdown",
   "id": "a0c2ae56",
   "metadata": {},
   "source": [
    "- Data was collected in the last three years"
   ]
  },
  {
   "cell_type": "code",
   "execution_count": 12,
   "id": "ea2427d6",
   "metadata": {},
   "outputs": [
    {
     "data": {
      "text/plain": [
       "SE    488\n",
       "MI    392\n",
       "EN    210\n",
       "EX     72\n",
       "Name: experience_level, dtype: int64"
      ]
     },
     "execution_count": 12,
     "metadata": {},
     "output_type": "execute_result"
    }
   ],
   "source": [
    "df['experience_level'].value_counts()"
   ]
  },
  {
   "cell_type": "markdown",
   "id": "ff55335e",
   "metadata": {},
   "source": [
    "- SE = Senior-level | MI = Mid-level | EN = Entry-Level | EX = Executive_level"
   ]
  },
  {
   "cell_type": "code",
   "execution_count": 13,
   "id": "7d1a7f5f",
   "metadata": {
    "scrolled": true
   },
   "outputs": [
    {
     "data": {
      "text/plain": [
       "FT    1140\n",
       "CT      11\n",
       "PT       8\n",
       "FL       3\n",
       "Name: employment_type, dtype: int64"
      ]
     },
     "execution_count": 13,
     "metadata": {},
     "output_type": "execute_result"
    }
   ],
   "source": [
    "df['employment_type'].value_counts()"
   ]
  },
  {
   "cell_type": "markdown",
   "id": "2043b0f3",
   "metadata": {},
   "source": [
    "- FT = Full-time | CT = Contract | PT = Part-time | FL = Freelance"
   ]
  },
  {
   "cell_type": "code",
   "execution_count": 14,
   "id": "e18da37c",
   "metadata": {},
   "outputs": [
    {
     "data": {
      "text/plain": [
       "Security Engineer                          144\n",
       "Cyber Security Analyst                     130\n",
       "Penetration Tester                          68\n",
       "Cyber Security Engineer                     63\n",
       "Information Security Manager                62\n",
       "                                          ... \n",
       "Principal Application Security Engineer      1\n",
       "Application Security Specialist              1\n",
       "Information Security Compliance Analyst      1\n",
       "Application Security Architect               1\n",
       "Concierge Security Engineer                  1\n",
       "Name: job_title, Length: 87, dtype: int64"
      ]
     },
     "execution_count": 14,
     "metadata": {},
     "output_type": "execute_result"
    }
   ],
   "source": [
    "df['job_title'].value_counts()"
   ]
  },
  {
   "cell_type": "code",
   "execution_count": 16,
   "id": "f47eb0c3",
   "metadata": {},
   "outputs": [
    {
     "data": {
      "text/plain": [
       "USD    849\n",
       "EUR    127\n",
       "GBP     56\n",
       "CAD     39\n",
       "INR     23\n",
       "AUD     18\n",
       "BRL     12\n",
       "CHF      9\n",
       "NZD      5\n",
       "PLN      4\n",
       "DKK      4\n",
       "ZAR      3\n",
       "SEK      3\n",
       "ILS      2\n",
       "SGD      2\n",
       "NOK      1\n",
       "IDR      1\n",
       "MXN      1\n",
       "HUF      1\n",
       "TWD      1\n",
       "RUB      1\n",
       "Name: salary_currency, dtype: int64"
      ]
     },
     "execution_count": 16,
     "metadata": {},
     "output_type": "execute_result"
    }
   ],
   "source": [
    "df['salary_currency'].value_counts()"
   ]
  },
  {
   "cell_type": "markdown",
   "id": "66d2a6cc",
   "metadata": {},
   "source": [
    "Verified all currency codes:\n",
    "- USD = US Dollar\n",
    "- EUR = Euro\n",
    "- GBP = British Pound, Sterling\n",
    "- CAD = Canada Dollar\n",
    "- INR = India Rupee\n",
    "- AUD = Australian Dollar\n",
    "- BRL = Brazilian Real\n",
    "- CHF = Frank\n",
    "- NZD = New Zealand Dollar\n",
    "- PLN = Poland Zloty\n",
    "- DKK = Danish Krone\n",
    "- ZAR = South Africa Rand\n",
    "- SEK = Sweden Krona\n",
    "- ILS = Israel Shekel\n",
    "- SGD = Singapore Dollar\n",
    "- NOK = Norway Kroner\n",
    "- IDR = Indonesia Rupiah\n",
    "- MXN = Mexican Peso\n",
    "- HUF = Hungary Forint\n",
    "- TWD = Taiwan Dollar\n",
    "- RUB = Russian Ruble"
   ]
  },
  {
   "cell_type": "code",
   "execution_count": 18,
   "id": "d54d1d75",
   "metadata": {
    "scrolled": true
   },
   "outputs": [
    {
     "data": {
      "text/plain": [
       "US    781\n",
       "GB     57\n",
       "CA     49\n",
       "DE     35\n",
       "IN     30\n",
       "FR     22\n",
       "AU     21\n",
       "NL     13\n",
       "BR     13\n",
       "CH     12\n",
       "ES     12\n",
       "PT     11\n",
       "IT      8\n",
       "IE      6\n",
       "GR      6\n",
       "PL      5\n",
       "NZ      5\n",
       "SE      4\n",
       "SI      4\n",
       "RO      4\n",
       "AR      4\n",
       "DK      4\n",
       "ZA      3\n",
       "AF      3\n",
       "BE      3\n",
       "AE      3\n",
       "SG      3\n",
       "BG      2\n",
       "AT      2\n",
       "EE      2\n",
       "RU      2\n",
       "JP      2\n",
       "HU      2\n",
       "IL      2\n",
       "TW      2\n",
       "DZ      2\n",
       "PK      2\n",
       "IR      1\n",
       "BW      1\n",
       "LT      1\n",
       "SA      1\n",
       "VN      1\n",
       "EG      1\n",
       "LU      1\n",
       "CL      1\n",
       "GH      1\n",
       "AZ      1\n",
       "MX      1\n",
       "KE      1\n",
       "KG      1\n",
       "ID      1\n",
       "CZ      1\n",
       "NO      1\n",
       "NG      1\n",
       "HR      1\n",
       "ET      1\n",
       "CR      1\n",
       "TR      1\n",
       "Name: employee_residence, dtype: int64"
      ]
     },
     "execution_count": 18,
     "metadata": {},
     "output_type": "execute_result"
    }
   ],
   "source": [
    "df['employee_residence'].value_counts()"
   ]
  },
  {
   "cell_type": "code",
   "execution_count": 19,
   "id": "12b492ff",
   "metadata": {},
   "outputs": [
    {
     "data": {
      "text/plain": [
       "100    706\n",
       "50     242\n",
       "0      214\n",
       "Name: remote_ratio, dtype: int64"
      ]
     },
     "execution_count": 19,
     "metadata": {},
     "output_type": "execute_result"
    }
   ],
   "source": [
    "df['remote_ratio'].value_counts()"
   ]
  },
  {
   "cell_type": "code",
   "execution_count": 20,
   "id": "3673eab7",
   "metadata": {},
   "outputs": [
    {
     "data": {
      "text/plain": [
       "US    804\n",
       "GB     57\n",
       "CA     45\n",
       "DE     33\n",
       "IN     23\n",
       "AU     20\n",
       "FR     19\n",
       "CH     14\n",
       "NL     13\n",
       "BR     12\n",
       "ES     11\n",
       "IT      8\n",
       "PT      8\n",
       "DK      6\n",
       "PL      5\n",
       "GR      5\n",
       "NZ      5\n",
       "IE      5\n",
       "RO      4\n",
       "RU      4\n",
       "SI      4\n",
       "SE      4\n",
       "SG      4\n",
       "BE      3\n",
       "AR      3\n",
       "ZA      3\n",
       "NO      3\n",
       "IL      3\n",
       "AT      2\n",
       "EE      2\n",
       "AF      2\n",
       "HU      2\n",
       "JP      2\n",
       "AE      2\n",
       "DZ      2\n",
       "PK      1\n",
       "BW      1\n",
       "SA      1\n",
       "VN      1\n",
       "TW      1\n",
       "EG      1\n",
       "LU      1\n",
       "UM      1\n",
       "CL      1\n",
       "AZ      1\n",
       "MX      1\n",
       "RS      1\n",
       "KE      1\n",
       "AQ      1\n",
       "ID      1\n",
       "CZ      1\n",
       "AX      1\n",
       "HR      1\n",
       "ET      1\n",
       "TR      1\n",
       "Name: company_location, dtype: int64"
      ]
     },
     "execution_count": 20,
     "metadata": {},
     "output_type": "execute_result"
    }
   ],
   "source": [
    "df['company_location'].value_counts()"
   ]
  },
  {
   "cell_type": "code",
   "execution_count": 21,
   "id": "f12d44d5",
   "metadata": {
    "scrolled": true
   },
   "outputs": [
    {
     "data": {
      "text/plain": [
       "L    756\n",
       "M    317\n",
       "S     89\n",
       "Name: company_size, dtype: int64"
      ]
     },
     "execution_count": 21,
     "metadata": {},
     "output_type": "execute_result"
    }
   ],
   "source": [
    "df['company_size'].value_counts()"
   ]
  },
  {
   "cell_type": "markdown",
   "id": "eed3a619",
   "metadata": {},
   "source": [
    "# Presentation"
   ]
  },
  {
   "cell_type": "code",
   "execution_count": 25,
   "id": "a24be647",
   "metadata": {},
   "outputs": [
    {
     "data": {
      "text/plain": [
       "2022    504\n",
       "2021    475\n",
       "2020    183\n",
       "Name: work_year, dtype: int64"
      ]
     },
     "execution_count": 25,
     "metadata": {},
     "output_type": "execute_result"
    }
   ],
   "source": [
    "# I will create 3 dataframes for each unique year that the data was collected.\n",
    "df['work_year'].value_counts()"
   ]
  },
  {
   "cell_type": "code",
   "execution_count": 26,
   "id": "452bfadd",
   "metadata": {},
   "outputs": [],
   "source": [
    "df_2022 = df.loc[df['work_year'] == 2022].copy()\n",
    "df_2021 = df.loc[df['work_year'] == 2021].copy()\n",
    "df_2020 = df.loc[df['work_year'] == 2020].copy()"
   ]
  },
  {
   "cell_type": "code",
   "execution_count": 27,
   "id": "f31b4f1e",
   "metadata": {},
   "outputs": [
    {
     "data": {
      "text/plain": [
       "2022    504\n",
       "Name: work_year, dtype: int64"
      ]
     },
     "execution_count": 27,
     "metadata": {},
     "output_type": "execute_result"
    }
   ],
   "source": [
    "df_2022['work_year'].value_counts()"
   ]
  },
  {
   "cell_type": "code",
   "execution_count": 28,
   "id": "94737f88",
   "metadata": {},
   "outputs": [
    {
     "data": {
      "text/plain": [
       "2021    475\n",
       "Name: work_year, dtype: int64"
      ]
     },
     "execution_count": 28,
     "metadata": {},
     "output_type": "execute_result"
    }
   ],
   "source": [
    "df_2021['work_year'].value_counts()"
   ]
  },
  {
   "cell_type": "code",
   "execution_count": 29,
   "id": "1f49fca6",
   "metadata": {},
   "outputs": [
    {
     "data": {
      "text/plain": [
       "2020    183\n",
       "Name: work_year, dtype: int64"
      ]
     },
     "execution_count": 29,
     "metadata": {},
     "output_type": "execute_result"
    }
   ],
   "source": [
    "df_2020['work_year'].value_counts()"
   ]
  },
  {
   "cell_type": "code",
   "execution_count": 35,
   "id": "bcc85760",
   "metadata": {},
   "outputs": [],
   "source": [
    "df_2022 = df_2022.sort_values(by='salary_in_usd')"
   ]
  },
  {
   "cell_type": "code",
   "execution_count": 38,
   "id": "c86e0381",
   "metadata": {
    "scrolled": true
   },
   "outputs": [
    {
     "data": {
      "text/html": [
       "<div>\n",
       "<style scoped>\n",
       "    .dataframe tbody tr th:only-of-type {\n",
       "        vertical-align: middle;\n",
       "    }\n",
       "\n",
       "    .dataframe tbody tr th {\n",
       "        vertical-align: top;\n",
       "    }\n",
       "\n",
       "    .dataframe thead th {\n",
       "        text-align: right;\n",
       "    }\n",
       "</style>\n",
       "<table border=\"1\" class=\"dataframe\">\n",
       "  <thead>\n",
       "    <tr style=\"text-align: right;\">\n",
       "      <th></th>\n",
       "      <th>work_year</th>\n",
       "      <th>experience_level</th>\n",
       "      <th>employment_type</th>\n",
       "      <th>job_title</th>\n",
       "      <th>salary</th>\n",
       "      <th>salary_currency</th>\n",
       "      <th>salary_in_usd</th>\n",
       "      <th>employee_residence</th>\n",
       "      <th>remote_ratio</th>\n",
       "      <th>company_location</th>\n",
       "      <th>company_size</th>\n",
       "    </tr>\n",
       "  </thead>\n",
       "  <tbody>\n",
       "    <tr>\n",
       "      <th>306</th>\n",
       "      <td>2022</td>\n",
       "      <td>EX</td>\n",
       "      <td>FT</td>\n",
       "      <td>Information Security Officer</td>\n",
       "      <td>300000</td>\n",
       "      <td>USD</td>\n",
       "      <td>300000</td>\n",
       "      <td>US</td>\n",
       "      <td>100</td>\n",
       "      <td>US</td>\n",
       "      <td>M</td>\n",
       "    </tr>\n",
       "    <tr>\n",
       "      <th>681</th>\n",
       "      <td>2022</td>\n",
       "      <td>SE</td>\n",
       "      <td>FT</td>\n",
       "      <td>Information Security Manager</td>\n",
       "      <td>310000</td>\n",
       "      <td>USD</td>\n",
       "      <td>310000</td>\n",
       "      <td>US</td>\n",
       "      <td>100</td>\n",
       "      <td>US</td>\n",
       "      <td>L</td>\n",
       "    </tr>\n",
       "    <tr>\n",
       "      <th>5</th>\n",
       "      <td>2022</td>\n",
       "      <td>EX</td>\n",
       "      <td>FT</td>\n",
       "      <td>Application Security Architect</td>\n",
       "      <td>315000</td>\n",
       "      <td>USD</td>\n",
       "      <td>315000</td>\n",
       "      <td>US</td>\n",
       "      <td>100</td>\n",
       "      <td>US</td>\n",
       "      <td>L</td>\n",
       "    </tr>\n",
       "    <tr>\n",
       "      <th>404</th>\n",
       "      <td>2022</td>\n",
       "      <td>EX</td>\n",
       "      <td>FT</td>\n",
       "      <td>Information Security Architect</td>\n",
       "      <td>325000</td>\n",
       "      <td>USD</td>\n",
       "      <td>325000</td>\n",
       "      <td>US</td>\n",
       "      <td>100</td>\n",
       "      <td>US</td>\n",
       "      <td>L</td>\n",
       "    </tr>\n",
       "    <tr>\n",
       "      <th>9</th>\n",
       "      <td>2022</td>\n",
       "      <td>EX</td>\n",
       "      <td>FT</td>\n",
       "      <td>Information Security Compliance Manager</td>\n",
       "      <td>360000</td>\n",
       "      <td>USD</td>\n",
       "      <td>360000</td>\n",
       "      <td>TW</td>\n",
       "      <td>100</td>\n",
       "      <td>SG</td>\n",
       "      <td>L</td>\n",
       "    </tr>\n",
       "    <tr>\n",
       "      <th>566</th>\n",
       "      <td>2022</td>\n",
       "      <td>SE</td>\n",
       "      <td>FT</td>\n",
       "      <td>Detection Engineer</td>\n",
       "      <td>360000</td>\n",
       "      <td>USD</td>\n",
       "      <td>360000</td>\n",
       "      <td>US</td>\n",
       "      <td>100</td>\n",
       "      <td>US</td>\n",
       "      <td>L</td>\n",
       "    </tr>\n",
       "    <tr>\n",
       "      <th>417</th>\n",
       "      <td>2022</td>\n",
       "      <td>MI</td>\n",
       "      <td>FT</td>\n",
       "      <td>Cyber Security Engineer</td>\n",
       "      <td>410000</td>\n",
       "      <td>USD</td>\n",
       "      <td>410000</td>\n",
       "      <td>IN</td>\n",
       "      <td>100</td>\n",
       "      <td>IN</td>\n",
       "      <td>L</td>\n",
       "    </tr>\n",
       "    <tr>\n",
       "      <th>523</th>\n",
       "      <td>2022</td>\n",
       "      <td>SE</td>\n",
       "      <td>FT</td>\n",
       "      <td>Security Researcher</td>\n",
       "      <td>500000</td>\n",
       "      <td>USD</td>\n",
       "      <td>500000</td>\n",
       "      <td>US</td>\n",
       "      <td>100</td>\n",
       "      <td>US</td>\n",
       "      <td>L</td>\n",
       "    </tr>\n",
       "    <tr>\n",
       "      <th>647</th>\n",
       "      <td>2022</td>\n",
       "      <td>SE</td>\n",
       "      <td>FT</td>\n",
       "      <td>Incident Response Manager</td>\n",
       "      <td>600000</td>\n",
       "      <td>USD</td>\n",
       "      <td>600000</td>\n",
       "      <td>US</td>\n",
       "      <td>100</td>\n",
       "      <td>US</td>\n",
       "      <td>L</td>\n",
       "    </tr>\n",
       "    <tr>\n",
       "      <th>512</th>\n",
       "      <td>2022</td>\n",
       "      <td>SE</td>\n",
       "      <td>FT</td>\n",
       "      <td>Detection Engineer</td>\n",
       "      <td>710000</td>\n",
       "      <td>GBP</td>\n",
       "      <td>910991</td>\n",
       "      <td>GB</td>\n",
       "      <td>100</td>\n",
       "      <td>GB</td>\n",
       "      <td>L</td>\n",
       "    </tr>\n",
       "  </tbody>\n",
       "</table>\n",
       "</div>"
      ],
      "text/plain": [
       "     work_year experience_level employment_type  \\\n",
       "306       2022               EX              FT   \n",
       "681       2022               SE              FT   \n",
       "5         2022               EX              FT   \n",
       "404       2022               EX              FT   \n",
       "9         2022               EX              FT   \n",
       "566       2022               SE              FT   \n",
       "417       2022               MI              FT   \n",
       "523       2022               SE              FT   \n",
       "647       2022               SE              FT   \n",
       "512       2022               SE              FT   \n",
       "\n",
       "                                   job_title  salary salary_currency  \\\n",
       "306             Information Security Officer  300000             USD   \n",
       "681             Information Security Manager  310000             USD   \n",
       "5             Application Security Architect  315000             USD   \n",
       "404           Information Security Architect  325000             USD   \n",
       "9    Information Security Compliance Manager  360000             USD   \n",
       "566                       Detection Engineer  360000             USD   \n",
       "417                  Cyber Security Engineer  410000             USD   \n",
       "523                      Security Researcher  500000             USD   \n",
       "647                Incident Response Manager  600000             USD   \n",
       "512                       Detection Engineer  710000             GBP   \n",
       "\n",
       "     salary_in_usd employee_residence  remote_ratio company_location  \\\n",
       "306         300000                 US           100               US   \n",
       "681         310000                 US           100               US   \n",
       "5           315000                 US           100               US   \n",
       "404         325000                 US           100               US   \n",
       "9           360000                 TW           100               SG   \n",
       "566         360000                 US           100               US   \n",
       "417         410000                 IN           100               IN   \n",
       "523         500000                 US           100               US   \n",
       "647         600000                 US           100               US   \n",
       "512         910991                 GB           100               GB   \n",
       "\n",
       "    company_size  \n",
       "306            M  \n",
       "681            L  \n",
       "5              L  \n",
       "404            L  \n",
       "9              L  \n",
       "566            L  \n",
       "417            L  \n",
       "523            L  \n",
       "647            L  \n",
       "512            L  "
      ]
     },
     "execution_count": 38,
     "metadata": {},
     "output_type": "execute_result"
    }
   ],
   "source": [
    "df_2022.tail(10)"
   ]
  },
  {
   "cell_type": "code",
   "execution_count": 69,
   "id": "f7082a52",
   "metadata": {},
   "outputs": [
    {
     "data": {
      "image/png": "[encoded data removed]",
      "text/plain": [
       "<Figure size 1000x700 with 1 Axes>"
      ]
     },
     "metadata": {},
     "output_type": "display_data"
    }
   ],
   "source": [
    "price_fmt = mpl.ticker.StrMethodFormatter('${x:,.0f}')\n",
    "\n",
    "fig, ax = plt.subplots(figsize= (10,7))\n",
    "sns.style()\n",
    "\n",
    "sns.barplot(data=df_2022.tail(11), y='job_title', x='salary_in_usd')\n",
    "plt.xticks(rotation=-80)\n",
    "plt.ylabel('Job Titles', fontsize=15)\n",
    "plt.xlim(left=0, right=1000000)\n",
    "plt.xlabel('Salary in USD', fontsize=15)\n",
    "ax.xaxis.set_major_formatter(price_fmt)\n",
    "plt.title('Top 10 Highest Paid Cyber Security Jobs', fontsize=25);"
   ]
  },
  {
   "cell_type": "code",
   "execution_count": null,
   "id": "4d89aff5",
   "metadata": {},
   "outputs": [],
   "source": []
  }
 ],
 "metadata": {
  "kernelspec": {
   "display_name": "Python (dojo-env)",
   "language": "python",
   "name": "dojo-env"
  },
  "language_info": {
   "codemirror_mode": {
    "name": "ipython",
    "version": 3
   },
   "file_extension": ".py",
   "mimetype": "text/x-python",
   "name": "python",
   "nbconvert_exporter": "python",
   "pygments_lexer": "ipython3",
   "version": "3.9.15"
  },
  "toc": {
   "base_numbering": 1,
   "nav_menu": {},
   "number_sections": false,
   "sideBar": true,
   "skip_h1_title": false,
   "title_cell": "Table of Contents",
   "title_sidebar": "Contents",
   "toc_cell": false,
   "toc_position": {
    "height": "calc(100% - 180px)",
    "left": "10px",
    "top": "150px",
    "width": "224.225px"
   },
   "toc_section_display": true,
   "toc_window_display": true
  }
 },
 "nbformat": 4,
 "nbformat_minor": 5
}
