{
 "cells": [
  {
   "cell_type": "markdown",
   "id": "e63d1867",
   "metadata": {},
   "source": [
    "# Preparation"
   ]
  },
  {
   "cell_type": "code",
   "execution_count": 1,
   "id": "06d37de7",
   "metadata": {},
   "outputs": [],
   "source": [
    "import pandas as pd\n",
    "import matplotlib.pyplot as plt\n",
    "import seaborn as sns"
   ]
  },
  {
   "cell_type": "code",
   "execution_count": 2,
   "id": "445fbb13",
   "metadata": {},
   "outputs": [],
   "source": [
    "original = pd.read_csv('salaries_cyber.csv')"
   ]
  },
  {
   "cell_type": "code",
   "execution_count": 3,
   "id": "b453e85f",
   "metadata": {},
   "outputs": [
    {
     "data": {
      "text/html": [
       "<div>\n",
       "<style scoped>\n",
       "    .dataframe tbody tr th:only-of-type {\n",
       "        vertical-align: middle;\n",
       "    }\n",
       "\n",
       "    .dataframe tbody tr th {\n",
       "        vertical-align: top;\n",
       "    }\n",
       "\n",
       "    .dataframe thead th {\n",
       "        text-align: right;\n",
       "    }\n",
       "</style>\n",
       "<table border=\"1\" class=\"dataframe\">\n",
       "  <thead>\n",
       "    <tr style=\"text-align: right;\">\n",
       "      <th></th>\n",
       "      <th>work_year</th>\n",
       "      <th>experience_level</th>\n",
       "      <th>employment_type</th>\n",
       "      <th>job_title</th>\n",
       "      <th>salary</th>\n",
       "      <th>salary_currency</th>\n",
       "      <th>salary_in_usd</th>\n",
       "      <th>employee_residence</th>\n",
       "      <th>remote_ratio</th>\n",
       "      <th>company_location</th>\n",
       "      <th>company_size</th>\n",
       "    </tr>\n",
       "  </thead>\n",
       "  <tbody>\n",
       "    <tr>\n",
       "      <th>0</th>\n",
       "      <td>2022</td>\n",
       "      <td>EN</td>\n",
       "      <td>FT</td>\n",
       "      <td>Cyber Program Manager</td>\n",
       "      <td>63000</td>\n",
       "      <td>USD</td>\n",
       "      <td>63000</td>\n",
       "      <td>US</td>\n",
       "      <td>50</td>\n",
       "      <td>US</td>\n",
       "      <td>S</td>\n",
       "    </tr>\n",
       "    <tr>\n",
       "      <th>1</th>\n",
       "      <td>2022</td>\n",
       "      <td>MI</td>\n",
       "      <td>FT</td>\n",
       "      <td>Security Analyst</td>\n",
       "      <td>95000</td>\n",
       "      <td>USD</td>\n",
       "      <td>95000</td>\n",
       "      <td>US</td>\n",
       "      <td>0</td>\n",
       "      <td>US</td>\n",
       "      <td>M</td>\n",
       "    </tr>\n",
       "    <tr>\n",
       "      <th>2</th>\n",
       "      <td>2022</td>\n",
       "      <td>MI</td>\n",
       "      <td>FT</td>\n",
       "      <td>Security Analyst</td>\n",
       "      <td>70000</td>\n",
       "      <td>USD</td>\n",
       "      <td>70000</td>\n",
       "      <td>US</td>\n",
       "      <td>0</td>\n",
       "      <td>US</td>\n",
       "      <td>M</td>\n",
       "    </tr>\n",
       "    <tr>\n",
       "      <th>3</th>\n",
       "      <td>2022</td>\n",
       "      <td>MI</td>\n",
       "      <td>FT</td>\n",
       "      <td>IT Security Analyst</td>\n",
       "      <td>250000</td>\n",
       "      <td>BRL</td>\n",
       "      <td>48853</td>\n",
       "      <td>BR</td>\n",
       "      <td>50</td>\n",
       "      <td>BR</td>\n",
       "      <td>L</td>\n",
       "    </tr>\n",
       "    <tr>\n",
       "      <th>4</th>\n",
       "      <td>2022</td>\n",
       "      <td>EN</td>\n",
       "      <td>CT</td>\n",
       "      <td>Cyber Security Analyst</td>\n",
       "      <td>120000</td>\n",
       "      <td>USD</td>\n",
       "      <td>120000</td>\n",
       "      <td>BW</td>\n",
       "      <td>100</td>\n",
       "      <td>BW</td>\n",
       "      <td>S</td>\n",
       "    </tr>\n",
       "  </tbody>\n",
       "</table>\n",
       "</div>"
      ],
      "text/plain": [
       "   work_year experience_level employment_type               job_title  salary  \\\n",
       "0       2022               EN              FT   Cyber Program Manager   63000   \n",
       "1       2022               MI              FT        Security Analyst   95000   \n",
       "2       2022               MI              FT        Security Analyst   70000   \n",
       "3       2022               MI              FT     IT Security Analyst  250000   \n",
       "4       2022               EN              CT  Cyber Security Analyst  120000   \n",
       "\n",
       "  salary_currency  salary_in_usd employee_residence  remote_ratio  \\\n",
       "0             USD          63000                 US            50   \n",
       "1             USD          95000                 US             0   \n",
       "2             USD          70000                 US             0   \n",
       "3             BRL          48853                 BR            50   \n",
       "4             USD         120000                 BW           100   \n",
       "\n",
       "  company_location company_size  \n",
       "0               US            S  \n",
       "1               US            M  \n",
       "2               US            M  \n",
       "3               BR            L  \n",
       "4               BW            S  "
      ]
     },
     "execution_count": 3,
     "metadata": {},
     "output_type": "execute_result"
    }
   ],
   "source": [
    "original.head()"
   ]
  },
  {
   "cell_type": "code",
   "execution_count": 4,
   "id": "cd554c7b",
   "metadata": {},
   "outputs": [
    {
     "name": "stdout",
     "output_type": "stream",
     "text": [
      "<class 'pandas.core.frame.DataFrame'>\n",
      "RangeIndex: 1247 entries, 0 to 1246\n",
      "Data columns (total 11 columns):\n",
      " #   Column              Non-Null Count  Dtype \n",
      "---  ------              --------------  ----- \n",
      " 0   work_year           1247 non-null   int64 \n",
      " 1   experience_level    1247 non-null   object\n",
      " 2   employment_type     1247 non-null   object\n",
      " 3   job_title           1247 non-null   object\n",
      " 4   salary              1247 non-null   int64 \n",
      " 5   salary_currency     1247 non-null   object\n",
      " 6   salary_in_usd       1247 non-null   int64 \n",
      " 7   employee_residence  1247 non-null   object\n",
      " 8   remote_ratio        1247 non-null   int64 \n",
      " 9   company_location    1247 non-null   object\n",
      " 10  company_size        1247 non-null   object\n",
      "dtypes: int64(4), object(7)\n",
      "memory usage: 107.3+ KB\n"
     ]
    }
   ],
   "source": [
    "original.info()"
   ]
  },
  {
   "cell_type": "markdown",
   "id": "330c3461",
   "metadata": {},
   "source": [
    "Business Problem:\n",
    "- Trying to see differences in salaries within Cyber Security field.\n",
    "\n",
    "Feature Dictionary:\n",
    "\n",
    "- work_year : Year the data was recorded\n",
    "- experience_level : Job experience level (Entry-EN, Mid-MI, Senior-SE, Executive-EX)\n",
    "- employment_type : Type of employment (Part-time-PT, full-time-FT, contract-CT, freelance-FL)\n",
    "- job_title : Specific role\n",
    "- salary : gross amount payed\n",
    "- salary_currency : currency of salary (ISO 4217 currency code)\n",
    "- salary_in_usd : salary in dollars\n",
    "- employee_residence : Country of employee residence\n",
    "- remote_ratio : Amount of remote work in a percentage (0% means no remote work, 50% means some remote work, 100% means job was fully remote)\n",
    "- company_location : Country of company.\n",
    "- company_size : Size of company (small, medium, or large)"
   ]
  },
  {
   "cell_type": "markdown",
   "id": "4b5298a1",
   "metadata": {},
   "source": [
    "# Data Prep"
   ]
  },
  {
   "cell_type": "code",
   "execution_count": 5,
   "id": "441716ef",
   "metadata": {},
   "outputs": [],
   "source": [
    "df = original.copy()"
   ]
  },
  {
   "cell_type": "markdown",
   "id": "75f29210",
   "metadata": {},
   "source": [
    "## Missing Values"
   ]
  },
  {
   "cell_type": "code",
   "execution_count": 6,
   "id": "98bd2f13",
   "metadata": {},
   "outputs": [
    {
     "data": {
      "text/plain": [
       "work_year             0\n",
       "experience_level      0\n",
       "employment_type       0\n",
       "job_title             0\n",
       "salary                0\n",
       "salary_currency       0\n",
       "salary_in_usd         0\n",
       "employee_residence    0\n",
       "remote_ratio          0\n",
       "company_location      0\n",
       "company_size          0\n",
       "dtype: int64"
      ]
     },
     "execution_count": 6,
     "metadata": {},
     "output_type": "execute_result"
    }
   ],
   "source": [
    "df.isna().sum()"
   ]
  },
  {
   "cell_type": "markdown",
   "id": "4a697a08",
   "metadata": {},
   "source": [
    "No missing values"
   ]
  },
  {
   "cell_type": "markdown",
   "id": "77b720dc",
   "metadata": {},
   "source": [
    "## Duplicates"
   ]
  },
  {
   "cell_type": "code",
   "execution_count": 7,
   "id": "fadc63f1",
   "metadata": {},
   "outputs": [
    {
     "data": {
      "text/plain": [
       "85"
      ]
     },
     "execution_count": 7,
     "metadata": {},
     "output_type": "execute_result"
    }
   ],
   "source": [
    "df.duplicated().sum()"
   ]
  },
  {
   "cell_type": "code",
   "execution_count": 8,
   "id": "fb425418",
   "metadata": {},
   "outputs": [],
   "source": [
    "df = df.drop_duplicates()"
   ]
  },
  {
   "cell_type": "code",
   "execution_count": 9,
   "id": "89408966",
   "metadata": {},
   "outputs": [
    {
     "data": {
      "text/plain": [
       "0"
      ]
     },
     "execution_count": 9,
     "metadata": {},
     "output_type": "execute_result"
    }
   ],
   "source": [
    "df.duplicated().sum()"
   ]
  },
  {
   "cell_type": "markdown",
   "id": "c2101a76",
   "metadata": {},
   "source": [
    "85 duplicate rows were removed"
   ]
  },
  {
   "cell_type": "markdown",
   "id": "971d37a7",
   "metadata": {},
   "source": [
    "## Consistent/Correct Values\n",
    "Only salary columns were changed"
   ]
  },
  {
   "cell_type": "code",
   "execution_count": 23,
   "id": "05b041d9",
   "metadata": {},
   "outputs": [
    {
     "name": "stdout",
     "output_type": "stream",
     "text": [
      "<class 'pandas.core.frame.DataFrame'>\n",
      "Int64Index: 1162 entries, 0 to 1246\n",
      "Data columns (total 11 columns):\n",
      " #   Column              Non-Null Count  Dtype \n",
      "---  ------              --------------  ----- \n",
      " 0   work_year           1162 non-null   int64 \n",
      " 1   experience_level    1162 non-null   object\n",
      " 2   employment_type     1162 non-null   object\n",
      " 3   job_title           1162 non-null   object\n",
      " 4   salary              1162 non-null   int64 \n",
      " 5   salary_currency     1162 non-null   object\n",
      " 6   salary_in_usd       1162 non-null   int64 \n",
      " 7   employee_residence  1162 non-null   object\n",
      " 8   remote_ratio        1162 non-null   int64 \n",
      " 9   company_location    1162 non-null   object\n",
      " 10  company_size        1162 non-null   object\n",
      "dtypes: int64(4), object(7)\n",
      "memory usage: 108.9+ KB\n"
     ]
    }
   ],
   "source": [
    "df.info()"
   ]
  },
  {
   "cell_type": "code",
   "execution_count": 11,
   "id": "9067f256",
   "metadata": {},
   "outputs": [
    {
     "data": {
      "text/plain": [
       "2022    504\n",
       "2021    475\n",
       "2020    183\n",
       "Name: work_year, dtype: int64"
      ]
     },
     "execution_count": 11,
     "metadata": {},
     "output_type": "execute_result"
    }
   ],
   "source": [
    "df['work_year'].value_counts()"
   ]
  },
  {
   "cell_type": "markdown",
   "id": "a0c2ae56",
   "metadata": {},
   "source": [
    "- Data was collected in the last three years"
   ]
  },
  {
   "cell_type": "code",
   "execution_count": 12,
   "id": "ea2427d6",
   "metadata": {},
   "outputs": [
    {
     "data": {
      "text/plain": [
       "SE    488\n",
       "MI    392\n",
       "EN    210\n",
       "EX     72\n",
       "Name: experience_level, dtype: int64"
      ]
     },
     "execution_count": 12,
     "metadata": {},
     "output_type": "execute_result"
    }
   ],
   "source": [
    "df['experience_level'].value_counts()"
   ]
  },
  {
   "cell_type": "markdown",
   "id": "ff55335e",
   "metadata": {},
   "source": [
    "- SE = Senior-level | MI = Mid-level | EN = Entry-Level | EX = Executive_level"
   ]
  },
  {
   "cell_type": "code",
   "execution_count": 13,
   "id": "7d1a7f5f",
   "metadata": {
    "scrolled": true
   },
   "outputs": [
    {
     "data": {
      "text/plain": [
       "FT    1140\n",
       "CT      11\n",
       "PT       8\n",
       "FL       3\n",
       "Name: employment_type, dtype: int64"
      ]
     },
     "execution_count": 13,
     "metadata": {},
     "output_type": "execute_result"
    }
   ],
   "source": [
    "df['employment_type'].value_counts()"
   ]
  },
  {
   "cell_type": "markdown",
   "id": "2043b0f3",
   "metadata": {},
   "source": [
    "- FT = Full-time | CT = Contract | PT = Part-time | FL = Freelance"
   ]
  },
  {
   "cell_type": "code",
   "execution_count": 24,
   "id": "a5e0860e",
   "metadata": {},
   "outputs": [
    {
     "data": {
      "text/plain": [
       "Security Engineer                          144\n",
       "Cyber Security Analyst                     130\n",
       "Penetration Tester                          68\n",
       "Cyber Security Engineer                     63\n",
       "Information Security Manager                62\n",
       "                                          ... \n",
       "Principal Application Security Engineer      1\n",
       "Application Security Specialist              1\n",
       "Information Security Compliance Analyst      1\n",
       "Application Security Architect               1\n",
       "Concierge Security Engineer                  1\n",
       "Name: job_title, Length: 87, dtype: int64"
      ]
     },
     "execution_count": 24,
     "metadata": {},
     "output_type": "execute_result"
    }
   ],
   "source": [
    "df['job_title'].value_counts()"
   ]
  },
  {
   "cell_type": "code",
   "execution_count": 14,
   "id": "e16576f3",
   "metadata": {},
   "outputs": [
    {
     "data": {
      "text/plain": [
       "count          1,162.00\n",
       "mean         591,003.96\n",
       "std       14,668,150.19\n",
       "min            1,740.00\n",
       "25%           76,000.00\n",
       "50%          116,000.00\n",
       "75%          160,000.00\n",
       "max      500,000,000.00\n",
       "Name: salary, dtype: object"
      ]
     },
     "execution_count": 14,
     "metadata": {},
     "output_type": "execute_result"
    }
   ],
   "source": [
    "df['salary'].describe().apply(lambda x: format(x, ',.2f'))"
   ]
  },
  {
   "cell_type": "markdown",
   "id": "a75f5d5c",
   "metadata": {},
   "source": [
    "This column is affected by having salaries from varying currencies but 1,740 a year for a Cyber Security position is highly improbable. I will dive deeper after checking other columns."
   ]
  },
  {
   "cell_type": "code",
   "execution_count": 15,
   "id": "f47eb0c3",
   "metadata": {},
   "outputs": [
    {
     "data": {
      "text/plain": [
       "USD    849\n",
       "EUR    127\n",
       "GBP     56\n",
       "CAD     39\n",
       "INR     23\n",
       "AUD     18\n",
       "BRL     12\n",
       "CHF      9\n",
       "NZD      5\n",
       "PLN      4\n",
       "DKK      4\n",
       "ZAR      3\n",
       "SEK      3\n",
       "ILS      2\n",
       "SGD      2\n",
       "NOK      1\n",
       "IDR      1\n",
       "MXN      1\n",
       "HUF      1\n",
       "TWD      1\n",
       "RUB      1\n",
       "Name: salary_currency, dtype: int64"
      ]
     },
     "execution_count": 15,
     "metadata": {},
     "output_type": "execute_result"
    }
   ],
   "source": [
    "df['salary_currency'].value_counts()"
   ]
  },
  {
   "cell_type": "markdown",
   "id": "66d2a6cc",
   "metadata": {},
   "source": [
    "Verified all currency codes:\n",
    "- USD = US Dollar\n",
    "- EUR = Euro\n",
    "- GBP = British Pound, Sterling\n",
    "- CAD = Canada Dollar\n",
    "- INR = India Rupee\n",
    "- AUD = Australian Dollar\n",
    "- BRL = Brazilian Real\n",
    "- CHF = Frank\n",
    "- NZD = New Zealand Dollar\n",
    "- PLN = Poland Zloty\n",
    "- DKK = Danish Krone\n",
    "- ZAR = South Africa Rand\n",
    "- SEK = Sweden Krona\n",
    "- ILS = Israel Shekel\n",
    "- SGD = Singapore Dollar\n",
    "- NOK = Norway Kroner\n",
    "- IDR = Indonesia Rupiah\n",
    "- MXN = Mexican Peso\n",
    "- HUF = Hungary Forint\n",
    "- TWD = Taiwan Dollar\n",
    "- RUB = Russian Ruble"
   ]
  },
  {
   "cell_type": "code",
   "execution_count": 16,
   "id": "0d1e51a6",
   "metadata": {},
   "outputs": [
    {
     "data": {
      "text/plain": [
       "count      1,162.00\n",
       "mean     118,201.79\n",
       "std       71,166.98\n",
       "min        2,000.00\n",
       "25%       72,000.00\n",
       "50%      107,000.00\n",
       "75%      148,000.00\n",
       "max      910,991.00\n",
       "Name: salary_in_usd, dtype: object"
      ]
     },
     "execution_count": 16,
     "metadata": {},
     "output_type": "execute_result"
    }
   ],
   "source": [
    "df['salary_in_usd'].describe().apply(lambda x: format(x, ',.2f'))"
   ]
  },
  {
   "cell_type": "markdown",
   "id": "2859316a",
   "metadata": {},
   "source": [
    "It is unrealistic that a job in Cyber security would pay 2,000 dollars a year. I will dive deeper after checking the rest of the columns."
   ]
  },
  {
   "cell_type": "code",
   "execution_count": 17,
   "id": "d54d1d75",
   "metadata": {
    "scrolled": true
   },
   "outputs": [
    {
     "data": {
      "text/plain": [
       "US    781\n",
       "GB     57\n",
       "CA     49\n",
       "DE     35\n",
       "IN     30\n",
       "FR     22\n",
       "AU     21\n",
       "NL     13\n",
       "BR     13\n",
       "CH     12\n",
       "ES     12\n",
       "PT     11\n",
       "IT      8\n",
       "IE      6\n",
       "GR      6\n",
       "PL      5\n",
       "NZ      5\n",
       "SE      4\n",
       "SI      4\n",
       "RO      4\n",
       "AR      4\n",
       "DK      4\n",
       "ZA      3\n",
       "AF      3\n",
       "BE      3\n",
       "AE      3\n",
       "SG      3\n",
       "BG      2\n",
       "AT      2\n",
       "EE      2\n",
       "RU      2\n",
       "JP      2\n",
       "HU      2\n",
       "IL      2\n",
       "TW      2\n",
       "DZ      2\n",
       "PK      2\n",
       "IR      1\n",
       "BW      1\n",
       "LT      1\n",
       "SA      1\n",
       "VN      1\n",
       "EG      1\n",
       "LU      1\n",
       "CL      1\n",
       "GH      1\n",
       "AZ      1\n",
       "MX      1\n",
       "KE      1\n",
       "KG      1\n",
       "ID      1\n",
       "CZ      1\n",
       "NO      1\n",
       "NG      1\n",
       "HR      1\n",
       "ET      1\n",
       "CR      1\n",
       "TR      1\n",
       "Name: employee_residence, dtype: int64"
      ]
     },
     "execution_count": 17,
     "metadata": {},
     "output_type": "execute_result"
    }
   ],
   "source": [
    "df['employee_residence'].value_counts()"
   ]
  },
  {
   "cell_type": "code",
   "execution_count": 19,
   "id": "b4f41a29",
   "metadata": {},
   "outputs": [
    {
     "data": {
      "text/plain": [
       "100    706\n",
       "50     242\n",
       "0      214\n",
       "Name: remote_ratio, dtype: int64"
      ]
     },
     "execution_count": 19,
     "metadata": {},
     "output_type": "execute_result"
    }
   ],
   "source": [
    "df['remote_ratio'].value_counts()"
   ]
  },
  {
   "cell_type": "code",
   "execution_count": 21,
   "id": "0fdc3f7f",
   "metadata": {},
   "outputs": [
    {
     "data": {
      "text/plain": [
       "US    804\n",
       "GB     57\n",
       "CA     45\n",
       "DE     33\n",
       "IN     23\n",
       "AU     20\n",
       "FR     19\n",
       "CH     14\n",
       "NL     13\n",
       "BR     12\n",
       "ES     11\n",
       "IT      8\n",
       "PT      8\n",
       "DK      6\n",
       "PL      5\n",
       "GR      5\n",
       "NZ      5\n",
       "IE      5\n",
       "RO      4\n",
       "RU      4\n",
       "SI      4\n",
       "SE      4\n",
       "SG      4\n",
       "BE      3\n",
       "AR      3\n",
       "ZA      3\n",
       "NO      3\n",
       "IL      3\n",
       "AT      2\n",
       "EE      2\n",
       "AF      2\n",
       "HU      2\n",
       "JP      2\n",
       "AE      2\n",
       "DZ      2\n",
       "PK      1\n",
       "BW      1\n",
       "SA      1\n",
       "VN      1\n",
       "TW      1\n",
       "EG      1\n",
       "LU      1\n",
       "UM      1\n",
       "CL      1\n",
       "AZ      1\n",
       "MX      1\n",
       "RS      1\n",
       "KE      1\n",
       "AQ      1\n",
       "ID      1\n",
       "CZ      1\n",
       "AX      1\n",
       "HR      1\n",
       "ET      1\n",
       "TR      1\n",
       "Name: company_location, dtype: int64"
      ]
     },
     "execution_count": 21,
     "metadata": {},
     "output_type": "execute_result"
    }
   ],
   "source": [
    "df['company_location'].value_counts()"
   ]
  },
  {
   "cell_type": "code",
   "execution_count": 22,
   "id": "b30025e4",
   "metadata": {
    "scrolled": true
   },
   "outputs": [
    {
     "data": {
      "text/plain": [
       "L    756\n",
       "M    317\n",
       "S     89\n",
       "Name: company_size, dtype: int64"
      ]
     },
     "execution_count": 22,
     "metadata": {},
     "output_type": "execute_result"
    }
   ],
   "source": [
    "df['company_size'].value_counts()"
   ]
  },
  {
   "cell_type": "markdown",
   "id": "640619a3",
   "metadata": {},
   "source": [
    "### Salary Columns\n",
    "I will investigate how to interpret the lows as they seem too low for a yearly salary."
   ]
  },
  {
   "cell_type": "code",
   "execution_count": 40,
   "id": "7935ffd3",
   "metadata": {},
   "outputs": [
    {
     "data": {
      "text/plain": [
       "count      1,162.00\n",
       "mean     118,201.79\n",
       "std       71,166.98\n",
       "min        2,000.00\n",
       "25%       72,000.00\n",
       "50%      107,000.00\n",
       "75%      148,000.00\n",
       "max      910,991.00\n",
       "Name: salary_in_usd, dtype: object"
      ]
     },
     "execution_count": 40,
     "metadata": {},
     "output_type": "execute_result"
    }
   ],
   "source": [
    "df['salary_in_usd'].describe().apply(lambda x: format(x, ',.2f'))"
   ]
  },
  {
   "cell_type": "code",
   "execution_count": 41,
   "id": "6c746678",
   "metadata": {},
   "outputs": [
    {
     "data": {
      "text/plain": [
       "count          1,162.00\n",
       "mean         591,003.96\n",
       "std       14,668,150.19\n",
       "min            1,740.00\n",
       "25%           76,000.00\n",
       "50%          116,000.00\n",
       "75%          160,000.00\n",
       "max      500,000,000.00\n",
       "Name: salary, dtype: object"
      ]
     },
     "execution_count": 41,
     "metadata": {},
     "output_type": "execute_result"
    }
   ],
   "source": [
    "df['salary'].describe().apply(lambda x: format(x, ',.2f'))"
   ]
  },
  {
   "cell_type": "code",
   "execution_count": null,
   "id": "6b54c215",
   "metadata": {},
   "outputs": [],
   "source": []
  },
  {
   "cell_type": "markdown",
   "id": "12af5461",
   "metadata": {},
   "source": [
    "# Presentation"
   ]
  },
  {
   "cell_type": "code",
   "execution_count": 26,
   "id": "cb4f5c17",
   "metadata": {},
   "outputs": [
    {
     "data": {
      "text/plain": [
       "2022    504\n",
       "2021    475\n",
       "2020    183\n",
       "Name: work_year, dtype: int64"
      ]
     },
     "execution_count": 26,
     "metadata": {},
     "output_type": "execute_result"
    }
   ],
   "source": [
    "# I will create 3 dataframes for each unique year that the data was collected.\n",
    "df['work_year'].value_counts()"
   ]
  },
  {
   "cell_type": "code",
   "execution_count": 30,
   "id": "9197ffd8",
   "metadata": {},
   "outputs": [],
   "source": [
    "df_2022 = df.loc[df['work_year'] == 2022].copy()\n",
    "df_2021 = df.loc[df['work_year'] == 2021].copy()\n",
    "df_2020 = df.loc[df['work_year'] == 2020].copy()"
   ]
  },
  {
   "cell_type": "code",
   "execution_count": 32,
   "id": "536b5114",
   "metadata": {},
   "outputs": [
    {
     "data": {
      "text/plain": [
       "2022    504\n",
       "Name: work_year, dtype: int64"
      ]
     },
     "execution_count": 32,
     "metadata": {},
     "output_type": "execute_result"
    }
   ],
   "source": [
    "df_2022['work_year'].value_counts()"
   ]
  },
  {
   "cell_type": "code",
   "execution_count": 33,
   "id": "26d6d08f",
   "metadata": {},
   "outputs": [
    {
     "data": {
      "text/plain": [
       "2021    475\n",
       "Name: work_year, dtype: int64"
      ]
     },
     "execution_count": 33,
     "metadata": {},
     "output_type": "execute_result"
    }
   ],
   "source": [
    "df_2021['work_year'].value_counts()"
   ]
  },
  {
   "cell_type": "code",
   "execution_count": 34,
   "id": "92542f96",
   "metadata": {},
   "outputs": [
    {
     "data": {
      "text/plain": [
       "2020    183\n",
       "Name: work_year, dtype: int64"
      ]
     },
     "execution_count": 34,
     "metadata": {},
     "output_type": "execute_result"
    }
   ],
   "source": [
    "df_2020['work_year'].value_counts()"
   ]
  }
 ],
 "metadata": {
  "kernelspec": {
   "display_name": "Python (dojo-env)",
   "language": "python",
   "name": "dojo-env"
  },
  "language_info": {
   "codemirror_mode": {
    "name": "ipython",
    "version": 3
   },
   "file_extension": ".py",
   "mimetype": "text/x-python",
   "name": "python",
   "nbconvert_exporter": "python",
   "pygments_lexer": "ipython3",
   "version": "3.9.15"
  },
  "toc": {
   "base_numbering": 1,
   "nav_menu": {},
   "number_sections": false,
   "sideBar": true,
   "skip_h1_title": false,
   "title_cell": "Table of Contents",
   "title_sidebar": "Contents",
   "toc_cell": false,
   "toc_position": {
    "height": "calc(100% - 180px)",
    "left": "10px",
    "top": "150px",
    "width": "224.225px"
   },
   "toc_section_display": true,
   "toc_window_display": true
  }
 },
 "nbformat": 4,
 "nbformat_minor": 5
}
